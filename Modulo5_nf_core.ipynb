{
  "nbformat": 4,
  "nbformat_minor": 0,
  "metadata": {
    "colab": {
      "provenance": [],
      "authorship_tag": "ABX9TyPlii9oZkCOfj66zT+ugJ2X",
      "include_colab_link": true
    },
    "kernelspec": {
      "name": "python3",
      "display_name": "Python 3"
    },
    "language_info": {
      "name": "python"
    }
  },
  "cells": [
    {
      "cell_type": "markdown",
      "metadata": {
        "id": "view-in-github",
        "colab_type": "text"
      },
      "source": [
        "<a href=\"https://colab.research.google.com/github/garciafranciscomartn/nextflow_intro_rsg/blob/main/Modulo5_nf_core.ipynb\" target=\"_parent\"><img src=\"https://colab.research.google.com/assets/colab-badge.svg\" alt=\"Open In Colab\"/></a>"
      ]
    },
    {
      "cell_type": "markdown",
      "source": [
        "\n",
        "# nf-core\n",
        "\n",
        "nf-core es una comunidad global que desarrolla y mantiene una colección de pipelines bioinformáticos de alta calidad, reproducibles y listos para usar, construidos sobre Nextflow.\n",
        "\n",
        "Estos pipelines están estandarizados, testeados automáticamente y validados por la comunidad. Están diseñados para ser portables a distintos entornos (local, HPC, cloud) y facilitar el análisis reproducible en bioinformática.\n",
        "\n",
        "Podés encontrar todos los pipelines disponibles en:  \n",
        "https://nf-co.re\n",
        "\n",
        "\n",
        "Usar un pipeline de nf-core es muy simple: no hace falta clonar ni descargar nada manualmente, solo tener instalado Nextflow. Los pasos serian:\n",
        "1.  Buscar un pipeline en:  \n",
        "https://nf-co.re/pipelines\n",
        "2.  Ejecutar el pipeline con Nextflow:\n",
        "\n",
        "```\n",
        "nextflow run nf-core/rnaseq -profile test,docker\n",
        "```\n",
        "\n",
        "Esto descargará el pipeline automáticamente y lo ejecutará con datos de prueba.\n",
        "\n",
        "3.  Ver ayuda y parámetros disponibles:\n",
        "```\n",
        "nextflow run nf-core/rnaseq --help\n",
        "```\n",
        "\n",
        "Cada pipeline tiene su propia documentación detallada con descripción de parámetros, ejemplos, resultados esperados y visualizaciones.\n",
        "\n",
        "La línea de comandos de nf-core permite buscar pipelines, crearlos, validarlos y administrarlos fácilmente. Les dejo una lista de **Comandos útiles** para que puedan utilizar cuando les sea necesario:\n",
        "\n",
        "```\n",
        "nf-core list                  # Ver todos los pipelines disponibles\n",
        "nf-core launch rnaseq        # Ejecutar un pipeline de forma interactiva\n",
        "nf-core schema build         # Ver la estructura de parámetros\n",
        "nf-core download rnaseq --container docker  # Descargar un pipeline con sus containers\n",
        "```\n",
        "\n",
        "¿Cómo crear y subir tu propio pipeline?\n",
        "\n",
        "nf-core tiene una **plantilla oficial** para crear nuevos pipelines que cumplan con las buenas prácticas del proyecto.\n",
        "1.  Crear un pipeline con la plantilla oficial:\n",
        "\n",
        "```\n",
        "nf-core create\n",
        "```\n",
        "\n",
        "Este comando genera la estructura inicial del pipeline y te guía paso a paso.\n",
        "\n",
        "2.  Desarrollar tu pipeline\n",
        "\n",
        "* Mantené una estructura modular y bien documentada.\n",
        "* Usá `nf-core lint` para verificar que cumple con los estándares nf-core.\n",
        "\n",
        "3. Subir tu pipeline a GitHub y hacer un Pull Request\n",
        "* Los pipelines nuevos se alojan en repositorios `nf-core/nombrepipeline`.\n",
        "* Deberán pasar una revisión comunitaria antes de ser aceptados.\n",
        "\n",
        "\n",
        "### ¡Suerte en su camino con Nextflow y nf-core!\n",
        "\n",
        "Espero que esta clase haya ayudado a dar los primeros pasos con **Nextflow** y a conocer el enorme potencial de la comunidad **nf-core**.\n",
        "\n",
        "Cualquier duda o consulta, estoy a disposición: **garciafranciscomartin@gmail.com**"
      ],
      "metadata": {
        "id": "6AhjVLL1-3yP"
      }
    }
  ]
}